{
 "cells": [
  {
   "cell_type": "markdown",
   "metadata": {
    "id": "t0DZ7QM0cSq7"
   },
   "source": [
    " # Opis notatnika\n",
    "\n",
    " Ten notatnik inicjuje naszą pracę nad warsztatem końcowym. Naszym zadaniem tutaj jest pobranie udostępnionych nam danych do obszaru roboczego, które w następnym kroku wgramy na naszą bazę danych. Ich obróbka oraz analiza zostanie przeprowadzona w specjalnie do tego celu przygotowanych kolejnych notatnikach.\n",
    "\n",
    " Na potrzeby tego warsztatu został stworzony dedykowany serwis API, który dostępny jest pod adresem: https://api-datalab.coderslab.com/api/. Dodatkowo udostępniona została dokumentacja, z którą można zapoznać się tutaj: [klik](https://api-datalab.coderslab.com/docs/).\n",
    "\n",
    " > Dokumentacja jest czysto techniczna i ma na celu prezentację dostępnych endpointów wraz ze zwracanym typem. W celu przetestowania należy kliknąć przysisk `Authorize`, podać token (dostępny poniżej), a następnie `Try it out!` oraz uzupełnić wymagane pola (parametry requesta).\n",
    "\n",
    " Zgodnie z dokumentacją stwierdzamy, że udostępnione zostały nam 4 endpointy:\n",
    " - `airport` - dane o lotnisku,\n",
    " - `weather` - informacje o zarejestrowaniej pogodzie na lotnisku danego dnia,\n",
    " - `aircraft` - dane o samolotach\n",
    " - `flights` - dane o wylotach z danego lotniska per dzień.\n",
    "\n",
    " Wszystkie te źródła musimy pobrać, aby być w stanie wykonać całość warsztatu. W celu pobrania informacji, gdzie wymagany jest paramatr `airportId`, posłużymy się listą z pliku `airports.csv`.\n",
    "\n",
    " Przy wykonywaniu tego zadania możesz posłużyć się tym tokenem: `WpzDMZeeCq6tbPdsTHUX8W9mecuUVwXAnmcorefr`.\n",
    "\n",
    " ### Uwagi\n",
    " - Ze względów ćwiczeniowych, konstrukcja poszczególnych endpointów jest różna – w trakcie pracy dokładnie przyjrzyj się, w jaki sposób należy wykonać zapytanie, aby otrzymać odpowiedź.\n",
    " - Pamiętaj o dodaniu `sleep` pomiędzy poszczególnymi wywołaniami endpoint.\n",
    " - Limit wywołań API to 500/min, zadbaj o nieprzekroczenie tego limitu – w przeciwnym wypadku będzie zwracany błąd 429."
   ]
  },
  {
   "cell_type": "markdown",
   "metadata": {
    "id": "KfoENWKJcSq9"
   },
   "source": [
    " # Konfiguracja notatnika"
   ]
  },
  {
   "cell_type": "markdown",
   "metadata": {
    "id": "W9F120yecSq-"
   },
   "source": [
    " Tutaj zaimportuj wymagane biblioteki"
   ]
  },
  {
   "cell_type": "code",
   "execution_count": 1,
   "metadata": {
    "id": "WoyekjhTcSq_"
   },
   "outputs": [],
   "source": [
    "import requests as r\n",
    "import json\n",
    "import pandas as pd\n",
    "import time"
   ]
  },
  {
   "cell_type": "markdown",
   "metadata": {
    "id": "xT_qqTgTcSq_",
    "tags": []
   },
   "source": [
    " Tutaj zdefiniuj parametry połączenia do API"
   ]
  },
  {
   "cell_type": "code",
   "execution_count": 2,
   "metadata": {
    "id": "ZnX5NHdIcSrA"
   },
   "outputs": [],
   "source": [
    "base_url = 'https://api-datalab.coderslab.com/api/'\n",
    "token = 'WpzDMZeeCq6tbPdsTHUX8W9mecuUVwXAnmcorefr'"
   ]
  },
  {
   "cell_type": "markdown",
   "metadata": {
    "id": "6qQIv0FYcSrA",
    "tags": []
   },
   "source": [
    "Tutaj wczytaj plik `airports.csv` i dostosuj do dalszych kroków w celu pobierania z kolejnych endpointów. Lista lotnisk jest dostępna w kolumnie `origin_airport_id`."
   ]
  },
  {
   "cell_type": "code",
   "execution_count": 3,
   "metadata": {
    "tags": []
   },
   "outputs": [
    {
     "name": "stdout",
     "output_type": "stream",
     "text": [
      "[10874, 11233, 13360, 15008, 11638, 14150, 15323, 14814, 12007, 11337, 13342, 15070, 13244, 12280, 15096, 11641, 13832, 10268, 10397, 15041, 10529, 12119, 11537, 11092, 10581, 13829, 15389, 10140, 12389, 11648, 15023, 11982, 10967, 11525, 10792, 14259, 11637, 10466, 10599, 10208, 15841, 14831, 12898, 13241, 13367, 11481, 14108, 13931, 13873, 10157, 10245, 11146, 13277, 11292, 11109, 13459, 11775, 16218, 14698, 14252, 13256, 13139, 12250, 11259, 11468, 14952, 12402, 14574, 11996, 11977, 11867, 11203, 11995, 15016, 10747, 14905, 12012, 14783, 14730, 10431, 10434, 16869, 10408, 12264, 11618, 15304, 13577, 12954, 11624, 13541, 13422, 14057, 13232, 10800, 14689, 12391, 10868, 14711, 10257, 11067, 10562, 11695, 13796, 14109, 13970, 14193, 11076, 14092, 11122, 11288, 11308, 10754, 12884, 15376, 14588, 11884, 12915, 13851, 14843, 11603, 14457, 12206, 11252, 11905, 15412, 14120, 11980, 14025, 11150, 14709, 15897, 14107, 14006, 14747, 12902, 13061, 12016, 14794, 11921, 10731, 14828, 12889, 12441, 14802, 13230, 10631, 14492, 10141, 13204, 12992, 13184, 10643, 10333, 12255, 14487, 12129, 10551, 13871, 14256, 11066, 13377, 13487, 10627, 12335, 14633, 11274, 14543, 10299, 10158, 12951, 14004, 12544, 10739, 10165, 13964, 14314, 10990, 14812, 12339, 10561, 10146, 12451, 15991, 11423, 15401, 11587, 14520, 11042, 10185, 11278, 14534, 14100, 14321, 11111, 15024, 12917, 12124, 12523, 10821, 10721, 11630, 10170, 12448, 12953, 10918, 15356, 13344, 10676, 10926, 14307, 14635, 12156, 12244, 10666, 11612, 13476, 13029, 11267, 15411, 14986, 11471, 12758, 14576, 10155, 13486, 14716, 13296, 11283, 10732, 12266, 12892, 11003, 12094, 14685, 13158, 13121, 11540, 14877, 12217, 11697, 10372, 13264, 10469, 11336, 14683, 14112, 13502, 14524, 15027, 11973, 12173, 10361, 13388, 13891, 10577, 11433, 13290, 11298, 14771, 11577, 11140, 11057, 15048, 14960, 15295, 11865, 14893, 11049, 13495, 11953, 12223, 14254, 11823, 15380, 11447, 12003, 14489, 14908, 11986, 14082, 12191, 14113, 12891, 15249, 12819, 14570, 12323, 14679, 12343, 13076, 11503, 11617, 10728, 10785, 14869, 14027, 14674, 12197, 14696, 13485, 10781, 10849, 14955, 13433, 15074, 13127, 11013, 14122, 10154, 10980, 14098, 12982, 14512, 12278, 15919, 12478, 13830, 13933, 13930, 11997, 11027, 15582, 11721, 12896, 10279, 11778, 12888, 14262, 11415, 10685, 14842, 14761, 11193, 12265, 14288, 10713, 12397, 15624, 10994, 10409, 12519, 10136, 15607, 14237, 10779, 11898, 11413, 13983, 10558, 10620, 14222, 13198, 10423, 11097, 15454, 15370, 12899, 10135, 12177, 13303, 13795, 10693, 12945, 12511]\n"
     ]
    }
   ],
   "source": [
    "airports_df = pd.read_csv(r'C:\\Users\\pawgolen\\Desktop\\Pliki_do_projektu_koncowego\\data\\airports.csv')\n",
    "\n",
    "airport_id = airports_df[ \"origin_airport_id\" ].tolist()\n",
    "print(airport_id)"
   ]
  },
  {
   "cell_type": "markdown",
   "metadata": {
    "id": "nl2wpRlFcSrB",
    "tags": []
   },
   "source": [
    " # Pobieranie `Airport`\n",
    " Zapoznaj się z dokumentacją endpointu `airport`, a następnie pobierz dane dot. poszczególnych lotnisk. Wyniki tego kroku zapisz do ramki `airport_df`, a następnie zapisz do pliku `csv`.\n",
    "\n",
    " ### Wskazówki\n",
    " - Nie wszystkie lotniska dostępne w pliku `airports.csv`, są dostępne w endpoint. Zadbaj o odpowiednie obsłużenie takiej sytuacji,\n",
    " - Do skonwertowania wyników przydatna może okazać się metoda `Pandas` - [from_records](https://pandas.pydata.org/docs/reference/api/pandas.DataFrame.from_records.html),\n",
    " - Artykuł LMS: `Python - analiza danych > Dzień 4 - API > Uwierzytelnianie`\n",
    " - Artykuł LMS: `Python - analiza danych > Przygotowanie do zjazdu 2`"
   ]
  },
  {
   "cell_type": "markdown",
   "metadata": {
    "id": "0BFT2Q6LcSrC",
    "tags": []
   },
   "source": [
    " Tutaj pobierz dane z endpoint'u `airport`"
   ]
  },
  {
   "cell_type": "code",
   "execution_count": 4,
   "metadata": {
    "id": "LU15PHoucsWC",
    "tags": []
   },
   "outputs": [],
   "source": [
    "def get_airports(airport_lst):\n",
    "    airports = []\n",
    "    for each_airport in airport_lst:\n",
    "        response = r.get(f'https://api-datalab.coderslab.com/api/airport/{each_airport}', headers = {'Authorization':token})\n",
    "        if response.status_code == 200:\n",
    "            airports.append(response.json())\n",
    "        time.sleep(0.1)\n",
    "    return airports\n",
    "\n",
    "\n",
    "airport_df = pd.DataFrame.from_records(get_airports(airport_id))"
   ]
  },
  {
   "cell_type": "markdown",
   "metadata": {
    "id": "PBYU4uZIcSrC"
   },
   "source": [
    " ## Sprawdzenie\n",
    " Uruchom kod poniżej, aby sprawdzić, czy ta część została poprawnie wykonana."
   ]
  },
  {
   "cell_type": "code",
   "execution_count": 5,
   "metadata": {
    "colab": {
     "base_uri": "https://localhost:8080/",
     "height": 183
    },
    "id": "v_uYoqUxcSrD",
    "jupyter": {
     "source_hidden": true
    },
    "outputId": "99974b89-87c9-4ced-cb20-3830cda40085",
    "tags": []
   },
   "outputs": [],
   "source": [
    "airport_df_expected_shape = (97, 4)\n",
    "assert airport_df_expected_shape == airport_df.shape"
   ]
  },
  {
   "cell_type": "markdown",
   "metadata": {
    "id": "VM2aiFNgcSrD",
    "tags": []
   },
   "source": [
    " Tutaj zapisz ramkę `airport_df` do pliku `airport_list.csv`."
   ]
  },
  {
   "cell_type": "code",
   "execution_count": 6,
   "metadata": {
    "id": "kX0YVty_cSrE"
   },
   "outputs": [],
   "source": [
    "airport_df.to_csv(r'C:\\Users\\pawgolen\\Desktop\\Pliki_do_projektu_koncowego\\data\\raw\\airport_list.csv', index = False)"
   ]
  },
  {
   "cell_type": "markdown",
   "metadata": {
    "id": "WFFoDzkMcSrE",
    "tags": []
   },
   "source": [
    " # Pobieranie `Weather`\n",
    " Zapoznaj się z dokumentacją endpotu `Weather`, następnie pobierz dane dotyczące zarejestrowanej pogody na poszczególnych lotniskach. Wyniki zapisz do ramki `weather_df`, a później do pliku `airport_weather.csv`.\n",
    "\n",
    " Wskazówki:\n",
    " - Ze względu na wolumen danych, które tutaj się pobiorą, odradzamy zapisywanie danych bezpośrednio do ramki. Rekomendujemy podejście podobne do tego z warsztatu na kursie `Python - analiza danych` - `Dzień 10 - Warsztat > Warsztat > Scrapowanie danych`, czyli stworzenie listy, a następnie przekonwertowanie jej w postać ramki.\n",
    " - Data początkowa danych to `2019-01-01`, zaś data końcowa to `2020-03-31`, czyli 15 miesięcy,\n",
    " - Ze względu na czas, jaki ten krok będzie się wykonywał, warto dodać w pętli instrukcję (lub kilka) `print`, aby monitorować przebieg wykonywania tego kroku.\n",
    " - Przy dodawaniu miesięcy do daty może przydać się metoda [relativedelta](https://www.geeksforgeeks.org/python-get-month-from-year-and-weekday/)."
   ]
  },
  {
   "cell_type": "code",
   "execution_count": 7,
   "metadata": {
    "jupyter": {
     "source_hidden": true
    },
    "tags": []
   },
   "outputs": [],
   "source": [
    "# date_list = pd.date_range(start=\"2019-01-01\",end=\"2020-03-31\")\n",
    "# #date_list\n",
    "\n",
    "# links_lst = []\n",
    "\n",
    "# for i in date_list:\n",
    "#     links = f'https://api-datalab.coderslab.com/api/airportWeather?date={i}'\n",
    "#     links_lst.append(links)\n",
    "\n",
    "# links_lst"
   ]
  },
  {
   "cell_type": "code",
   "execution_count": 8,
   "metadata": {
    "jupyter": {
     "source_hidden": true
    },
    "tags": []
   },
   "outputs": [],
   "source": [
    "# from datetime import datetime\n",
    "\n",
    "# date_list = pd.date_range(start=\"2019-01-01\",end=\"2020-03-31\")\n",
    "\n",
    "# links_lst = []\n",
    "\n",
    "# for i in date_list:\n",
    "#     links = f'https://api-datalab.coderslab.com/api/airportWeather?date={i}'\n",
    "#     links_lst.append(links)\n",
    "\n",
    "# #links_lst\n",
    "\n",
    "# def get_weather(links_lst):\n",
    "#     for link in links_lst:\n",
    "#         response = r.get(f'{link}', headers = {'Authorization':token})\n",
    "#         if response.status_code == 200:\n",
    "#             response.json()          \n",
    "#         time.sleep(0.1)\n",
    "#     return response.json()\n",
    "\n",
    "# weather_df = pd.DataFrame(get_weather(links_lst))"
   ]
  },
  {
   "cell_type": "code",
   "execution_count": 9,
   "metadata": {
    "tags": []
   },
   "outputs": [
    {
     "name": "stdout",
     "output_type": "stream",
     "text": [
      "2019-01-31 00:00:00\n",
      "2019-02-28 00:00:00\n",
      "2019-03-31 00:00:00\n",
      "2019-04-30 00:00:00\n",
      "2019-05-31 00:00:00\n",
      "2019-06-30 00:00:00\n",
      "2019-07-31 00:00:00\n",
      "2019-08-31 00:00:00\n",
      "2019-09-30 00:00:00\n",
      "2019-10-31 00:00:00\n",
      "2019-11-30 00:00:00\n",
      "2019-12-31 00:00:00\n",
      "2020-01-31 00:00:00\n",
      "2020-02-29 00:00:00\n",
      "2020-03-31 00:00:00\n"
     ]
    }
   ],
   "source": [
    "from datetime import datetime\n",
    "\n",
    "date_range = pd.date_range(start=\"2019-01-01\",end=\"2020-03-31\", freq='M')\n",
    "\n",
    "\n",
    "def get_weather(date_range):\n",
    "    weather = []\n",
    "    for date in date_range:\n",
    "        print(date)\n",
    "        response = r.get(f'https://api-datalab.coderslab.com/api/airportWeather?date={date}', headers = {'Authorization':token})\n",
    "        if response.status_code == 200:\n",
    "            weather.extend(response.json())\n",
    "        time.sleep(0.1)\n",
    "    return weather\n",
    "\n",
    "weather_df = pd.DataFrame.from_records(get_weather(date_range))"
   ]
  },
  {
   "cell_type": "code",
   "execution_count": 10,
   "metadata": {
    "tags": []
   },
   "outputs": [
    {
     "data": {
      "text/html": [
       "<div>\n",
       "<style scoped>\n",
       "    .dataframe tbody tr th:only-of-type {\n",
       "        vertical-align: middle;\n",
       "    }\n",
       "\n",
       "    .dataframe tbody tr th {\n",
       "        vertical-align: top;\n",
       "    }\n",
       "\n",
       "    .dataframe thead th {\n",
       "        text-align: right;\n",
       "    }\n",
       "</style>\n",
       "<table border=\"1\" class=\"dataframe\">\n",
       "  <thead>\n",
       "    <tr style=\"text-align: right;\">\n",
       "      <th></th>\n",
       "      <th>WT18</th>\n",
       "      <th>STATION</th>\n",
       "      <th>NAME</th>\n",
       "      <th>DATE</th>\n",
       "      <th>AWND</th>\n",
       "      <th>PRCP</th>\n",
       "      <th>SNOW</th>\n",
       "      <th>SNWD</th>\n",
       "      <th>TAVG</th>\n",
       "      <th>TMAX</th>\n",
       "      <th>...</th>\n",
       "      <th>PGTM</th>\n",
       "      <th>WT10</th>\n",
       "      <th>WESD</th>\n",
       "      <th>SN32</th>\n",
       "      <th>SX32</th>\n",
       "      <th>PSUN</th>\n",
       "      <th>TSUN</th>\n",
       "      <th>TOBS</th>\n",
       "      <th>WT07</th>\n",
       "      <th>WT11</th>\n",
       "    </tr>\n",
       "  </thead>\n",
       "  <tbody>\n",
       "    <tr>\n",
       "      <th>0</th>\n",
       "      <td>None</td>\n",
       "      <td>USW00013874</td>\n",
       "      <td>ATLANTA HARTSFIELD JACKSON INTERNATIONAL AIRPO...</td>\n",
       "      <td>2019-01-01</td>\n",
       "      <td>4.70</td>\n",
       "      <td>0.14</td>\n",
       "      <td>0.0</td>\n",
       "      <td>0.0</td>\n",
       "      <td>64.0</td>\n",
       "      <td>66.0</td>\n",
       "      <td>...</td>\n",
       "      <td>NaN</td>\n",
       "      <td>NaN</td>\n",
       "      <td>NaN</td>\n",
       "      <td>NaN</td>\n",
       "      <td>NaN</td>\n",
       "      <td>NaN</td>\n",
       "      <td>NaN</td>\n",
       "      <td>NaN</td>\n",
       "      <td>NaN</td>\n",
       "      <td>NaN</td>\n",
       "    </tr>\n",
       "    <tr>\n",
       "      <th>1</th>\n",
       "      <td>None</td>\n",
       "      <td>USW00013874</td>\n",
       "      <td>ATLANTA HARTSFIELD JACKSON INTERNATIONAL AIRPO...</td>\n",
       "      <td>2019-01-02</td>\n",
       "      <td>4.92</td>\n",
       "      <td>0.57</td>\n",
       "      <td>0.0</td>\n",
       "      <td>0.0</td>\n",
       "      <td>56.0</td>\n",
       "      <td>59.0</td>\n",
       "      <td>...</td>\n",
       "      <td>NaN</td>\n",
       "      <td>NaN</td>\n",
       "      <td>NaN</td>\n",
       "      <td>NaN</td>\n",
       "      <td>NaN</td>\n",
       "      <td>NaN</td>\n",
       "      <td>NaN</td>\n",
       "      <td>NaN</td>\n",
       "      <td>NaN</td>\n",
       "      <td>NaN</td>\n",
       "    </tr>\n",
       "    <tr>\n",
       "      <th>2</th>\n",
       "      <td>None</td>\n",
       "      <td>USW00013874</td>\n",
       "      <td>ATLANTA HARTSFIELD JACKSON INTERNATIONAL AIRPO...</td>\n",
       "      <td>2019-01-03</td>\n",
       "      <td>5.37</td>\n",
       "      <td>0.15</td>\n",
       "      <td>0.0</td>\n",
       "      <td>0.0</td>\n",
       "      <td>52.0</td>\n",
       "      <td>55.0</td>\n",
       "      <td>...</td>\n",
       "      <td>NaN</td>\n",
       "      <td>NaN</td>\n",
       "      <td>NaN</td>\n",
       "      <td>NaN</td>\n",
       "      <td>NaN</td>\n",
       "      <td>NaN</td>\n",
       "      <td>NaN</td>\n",
       "      <td>NaN</td>\n",
       "      <td>NaN</td>\n",
       "      <td>NaN</td>\n",
       "    </tr>\n",
       "    <tr>\n",
       "      <th>3</th>\n",
       "      <td>None</td>\n",
       "      <td>USW00013874</td>\n",
       "      <td>ATLANTA HARTSFIELD JACKSON INTERNATIONAL AIRPO...</td>\n",
       "      <td>2019-01-04</td>\n",
       "      <td>12.08</td>\n",
       "      <td>1.44</td>\n",
       "      <td>0.0</td>\n",
       "      <td>0.0</td>\n",
       "      <td>56.0</td>\n",
       "      <td>66.0</td>\n",
       "      <td>...</td>\n",
       "      <td>NaN</td>\n",
       "      <td>NaN</td>\n",
       "      <td>NaN</td>\n",
       "      <td>NaN</td>\n",
       "      <td>NaN</td>\n",
       "      <td>NaN</td>\n",
       "      <td>NaN</td>\n",
       "      <td>NaN</td>\n",
       "      <td>NaN</td>\n",
       "      <td>NaN</td>\n",
       "    </tr>\n",
       "    <tr>\n",
       "      <th>4</th>\n",
       "      <td>None</td>\n",
       "      <td>USW00013874</td>\n",
       "      <td>ATLANTA HARTSFIELD JACKSON INTERNATIONAL AIRPO...</td>\n",
       "      <td>2019-01-05</td>\n",
       "      <td>13.42</td>\n",
       "      <td>0.00</td>\n",
       "      <td>0.0</td>\n",
       "      <td>0.0</td>\n",
       "      <td>49.0</td>\n",
       "      <td>59.0</td>\n",
       "      <td>...</td>\n",
       "      <td>NaN</td>\n",
       "      <td>NaN</td>\n",
       "      <td>NaN</td>\n",
       "      <td>NaN</td>\n",
       "      <td>NaN</td>\n",
       "      <td>NaN</td>\n",
       "      <td>NaN</td>\n",
       "      <td>NaN</td>\n",
       "      <td>NaN</td>\n",
       "      <td>NaN</td>\n",
       "    </tr>\n",
       "    <tr>\n",
       "      <th>...</th>\n",
       "      <td>...</td>\n",
       "      <td>...</td>\n",
       "      <td>...</td>\n",
       "      <td>...</td>\n",
       "      <td>...</td>\n",
       "      <td>...</td>\n",
       "      <td>...</td>\n",
       "      <td>...</td>\n",
       "      <td>...</td>\n",
       "      <td>...</td>\n",
       "      <td>...</td>\n",
       "      <td>...</td>\n",
       "      <td>...</td>\n",
       "      <td>...</td>\n",
       "      <td>...</td>\n",
       "      <td>...</td>\n",
       "      <td>...</td>\n",
       "      <td>...</td>\n",
       "      <td>...</td>\n",
       "      <td>...</td>\n",
       "      <td>...</td>\n",
       "    </tr>\n",
       "    <tr>\n",
       "      <th>46221</th>\n",
       "      <td>None</td>\n",
       "      <td>USW00014762</td>\n",
       "      <td>PITTSBURGH ALLEGHENY CO AIRPORT, PA US</td>\n",
       "      <td>2020-03-27</td>\n",
       "      <td>3.58</td>\n",
       "      <td>0.21</td>\n",
       "      <td>NaN</td>\n",
       "      <td>NaN</td>\n",
       "      <td>NaN</td>\n",
       "      <td>59.0</td>\n",
       "      <td>...</td>\n",
       "      <td>146.0</td>\n",
       "      <td>NaN</td>\n",
       "      <td>NaN</td>\n",
       "      <td>NaN</td>\n",
       "      <td>NaN</td>\n",
       "      <td>NaN</td>\n",
       "      <td>NaN</td>\n",
       "      <td>NaN</td>\n",
       "      <td>NaN</td>\n",
       "      <td>NaN</td>\n",
       "    </tr>\n",
       "    <tr>\n",
       "      <th>46222</th>\n",
       "      <td>None</td>\n",
       "      <td>USW00014762</td>\n",
       "      <td>PITTSBURGH ALLEGHENY CO AIRPORT, PA US</td>\n",
       "      <td>2020-03-28</td>\n",
       "      <td>6.93</td>\n",
       "      <td>1.29</td>\n",
       "      <td>NaN</td>\n",
       "      <td>NaN</td>\n",
       "      <td>NaN</td>\n",
       "      <td>77.0</td>\n",
       "      <td>...</td>\n",
       "      <td>1535.0</td>\n",
       "      <td>NaN</td>\n",
       "      <td>NaN</td>\n",
       "      <td>NaN</td>\n",
       "      <td>NaN</td>\n",
       "      <td>NaN</td>\n",
       "      <td>NaN</td>\n",
       "      <td>NaN</td>\n",
       "      <td>NaN</td>\n",
       "      <td>NaN</td>\n",
       "    </tr>\n",
       "    <tr>\n",
       "      <th>46223</th>\n",
       "      <td>None</td>\n",
       "      <td>USW00014762</td>\n",
       "      <td>PITTSBURGH ALLEGHENY CO AIRPORT, PA US</td>\n",
       "      <td>2020-03-29</td>\n",
       "      <td>16.55</td>\n",
       "      <td>0.02</td>\n",
       "      <td>NaN</td>\n",
       "      <td>NaN</td>\n",
       "      <td>NaN</td>\n",
       "      <td>78.0</td>\n",
       "      <td>...</td>\n",
       "      <td>1408.0</td>\n",
       "      <td>NaN</td>\n",
       "      <td>NaN</td>\n",
       "      <td>NaN</td>\n",
       "      <td>NaN</td>\n",
       "      <td>NaN</td>\n",
       "      <td>NaN</td>\n",
       "      <td>NaN</td>\n",
       "      <td>NaN</td>\n",
       "      <td>NaN</td>\n",
       "    </tr>\n",
       "    <tr>\n",
       "      <th>46224</th>\n",
       "      <td>None</td>\n",
       "      <td>USW00014762</td>\n",
       "      <td>PITTSBURGH ALLEGHENY CO AIRPORT, PA US</td>\n",
       "      <td>2020-03-30</td>\n",
       "      <td>13.42</td>\n",
       "      <td>0.00</td>\n",
       "      <td>NaN</td>\n",
       "      <td>NaN</td>\n",
       "      <td>NaN</td>\n",
       "      <td>57.0</td>\n",
       "      <td>...</td>\n",
       "      <td>817.0</td>\n",
       "      <td>NaN</td>\n",
       "      <td>NaN</td>\n",
       "      <td>NaN</td>\n",
       "      <td>NaN</td>\n",
       "      <td>NaN</td>\n",
       "      <td>NaN</td>\n",
       "      <td>NaN</td>\n",
       "      <td>NaN</td>\n",
       "      <td>NaN</td>\n",
       "    </tr>\n",
       "    <tr>\n",
       "      <th>46225</th>\n",
       "      <td>None</td>\n",
       "      <td>USW00014762</td>\n",
       "      <td>PITTSBURGH ALLEGHENY CO AIRPORT, PA US</td>\n",
       "      <td>2020-03-31</td>\n",
       "      <td>3.80</td>\n",
       "      <td>0.06</td>\n",
       "      <td>NaN</td>\n",
       "      <td>NaN</td>\n",
       "      <td>NaN</td>\n",
       "      <td>47.0</td>\n",
       "      <td>...</td>\n",
       "      <td>110.0</td>\n",
       "      <td>NaN</td>\n",
       "      <td>NaN</td>\n",
       "      <td>NaN</td>\n",
       "      <td>NaN</td>\n",
       "      <td>NaN</td>\n",
       "      <td>NaN</td>\n",
       "      <td>NaN</td>\n",
       "      <td>NaN</td>\n",
       "      <td>NaN</td>\n",
       "    </tr>\n",
       "  </tbody>\n",
       "</table>\n",
       "<p>46226 rows × 33 columns</p>\n",
       "</div>"
      ],
      "text/plain": [
       "       WT18      STATION                                               NAME  \\\n",
       "0      None  USW00013874  ATLANTA HARTSFIELD JACKSON INTERNATIONAL AIRPO...   \n",
       "1      None  USW00013874  ATLANTA HARTSFIELD JACKSON INTERNATIONAL AIRPO...   \n",
       "2      None  USW00013874  ATLANTA HARTSFIELD JACKSON INTERNATIONAL AIRPO...   \n",
       "3      None  USW00013874  ATLANTA HARTSFIELD JACKSON INTERNATIONAL AIRPO...   \n",
       "4      None  USW00013874  ATLANTA HARTSFIELD JACKSON INTERNATIONAL AIRPO...   \n",
       "...     ...          ...                                                ...   \n",
       "46221  None  USW00014762             PITTSBURGH ALLEGHENY CO AIRPORT, PA US   \n",
       "46222  None  USW00014762             PITTSBURGH ALLEGHENY CO AIRPORT, PA US   \n",
       "46223  None  USW00014762             PITTSBURGH ALLEGHENY CO AIRPORT, PA US   \n",
       "46224  None  USW00014762             PITTSBURGH ALLEGHENY CO AIRPORT, PA US   \n",
       "46225  None  USW00014762             PITTSBURGH ALLEGHENY CO AIRPORT, PA US   \n",
       "\n",
       "             DATE   AWND  PRCP  SNOW  SNWD  TAVG  TMAX  ...    PGTM  WT10  \\\n",
       "0      2019-01-01   4.70  0.14   0.0   0.0  64.0  66.0  ...     NaN   NaN   \n",
       "1      2019-01-02   4.92  0.57   0.0   0.0  56.0  59.0  ...     NaN   NaN   \n",
       "2      2019-01-03   5.37  0.15   0.0   0.0  52.0  55.0  ...     NaN   NaN   \n",
       "3      2019-01-04  12.08  1.44   0.0   0.0  56.0  66.0  ...     NaN   NaN   \n",
       "4      2019-01-05  13.42  0.00   0.0   0.0  49.0  59.0  ...     NaN   NaN   \n",
       "...           ...    ...   ...   ...   ...   ...   ...  ...     ...   ...   \n",
       "46221  2020-03-27   3.58  0.21   NaN   NaN   NaN  59.0  ...   146.0   NaN   \n",
       "46222  2020-03-28   6.93  1.29   NaN   NaN   NaN  77.0  ...  1535.0   NaN   \n",
       "46223  2020-03-29  16.55  0.02   NaN   NaN   NaN  78.0  ...  1408.0   NaN   \n",
       "46224  2020-03-30  13.42  0.00   NaN   NaN   NaN  57.0  ...   817.0   NaN   \n",
       "46225  2020-03-31   3.80  0.06   NaN   NaN   NaN  47.0  ...   110.0   NaN   \n",
       "\n",
       "       WESD  SN32  SX32  PSUN  TSUN  TOBS  WT07  WT11  \n",
       "0       NaN   NaN   NaN   NaN   NaN   NaN   NaN   NaN  \n",
       "1       NaN   NaN   NaN   NaN   NaN   NaN   NaN   NaN  \n",
       "2       NaN   NaN   NaN   NaN   NaN   NaN   NaN   NaN  \n",
       "3       NaN   NaN   NaN   NaN   NaN   NaN   NaN   NaN  \n",
       "4       NaN   NaN   NaN   NaN   NaN   NaN   NaN   NaN  \n",
       "...     ...   ...   ...   ...   ...   ...   ...   ...  \n",
       "46221   NaN   NaN   NaN   NaN   NaN   NaN   NaN   NaN  \n",
       "46222   NaN   NaN   NaN   NaN   NaN   NaN   NaN   NaN  \n",
       "46223   NaN   NaN   NaN   NaN   NaN   NaN   NaN   NaN  \n",
       "46224   NaN   NaN   NaN   NaN   NaN   NaN   NaN   NaN  \n",
       "46225   NaN   NaN   NaN   NaN   NaN   NaN   NaN   NaN  \n",
       "\n",
       "[46226 rows x 33 columns]"
      ]
     },
     "execution_count": 10,
     "metadata": {},
     "output_type": "execute_result"
    }
   ],
   "source": [
    "weather_df\n"
   ]
  },
  {
   "cell_type": "markdown",
   "metadata": {
    "id": "ESOue3vucSrF"
   },
   "source": [
    " ## Sprawdzenie\n",
    " Uruchom kod poniżej, aby sprawdzić, czy ta część została poprawnie wykonana."
   ]
  },
  {
   "cell_type": "code",
   "execution_count": 11,
   "metadata": {
    "id": "RyAhmF0tcSrF"
   },
   "outputs": [],
   "source": [
    "weather_df_expected_shape = (46226, 33)\n",
    "assert weather_df_expected_shape == weather_df.shape"
   ]
  },
  {
   "cell_type": "markdown",
   "metadata": {
    "id": "s6AC9708cSrF"
   },
   "source": [
    " ## Zapis do pliku\n",
    " Tutaj zapisz ramkę `weather_df` do pliku `airport_weather.csv` w katalogu `data/raw`."
   ]
  },
  {
   "cell_type": "code",
   "execution_count": 12,
   "metadata": {
    "id": "-XdjTZeucSrG"
   },
   "outputs": [],
   "source": [
    "weather_df.to_csv(r'C:\\Users\\pawgolen\\Desktop\\Pliki_do_projektu_koncowego\\data\\raw\\airport_weather.csv', index = False)"
   ]
  },
  {
   "cell_type": "markdown",
   "metadata": {
    "id": "TjzQYZp7cSrG"
   },
   "source": [
    " # Pobranie `Aircraft`\n",
    " Zapoznaj się z dokumentacją endpointu `aircraft` a następnie pobierz dane produkcyjne samolotów. Wyniki zapisz do ramki `aircraft_df`, a następnie zapisz do pliku `aircraft.csv`.\n"
   ]
  },
  {
   "cell_type": "code",
   "execution_count": 13,
   "metadata": {
    "id": "bxqkmGNOdjnL",
    "tags": []
   },
   "outputs": [
    {
     "name": "stdout",
     "output_type": "stream",
     "text": [
      "<Response [200]>\n"
     ]
    },
    {
     "data": {
      "text/html": [
       "<div>\n",
       "<style scoped>\n",
       "    .dataframe tbody tr th:only-of-type {\n",
       "        vertical-align: middle;\n",
       "    }\n",
       "\n",
       "    .dataframe tbody tr th {\n",
       "        vertical-align: top;\n",
       "    }\n",
       "\n",
       "    .dataframe thead th {\n",
       "        text-align: right;\n",
       "    }\n",
       "</style>\n",
       "<table border=\"1\" class=\"dataframe\">\n",
       "  <thead>\n",
       "    <tr style=\"text-align: right;\">\n",
       "      <th></th>\n",
       "      <th>MANUFACTURE_YEAR</th>\n",
       "      <th>TAIL_NUM</th>\n",
       "      <th>NUMBER_OF_SEATS</th>\n",
       "    </tr>\n",
       "  </thead>\n",
       "  <tbody>\n",
       "    <tr>\n",
       "      <th>0</th>\n",
       "      <td>1944</td>\n",
       "      <td>N54514</td>\n",
       "      <td>0.0</td>\n",
       "    </tr>\n",
       "    <tr>\n",
       "      <th>1</th>\n",
       "      <td>1945</td>\n",
       "      <td>N1651M</td>\n",
       "      <td>0.0</td>\n",
       "    </tr>\n",
       "    <tr>\n",
       "      <th>2</th>\n",
       "      <td>1953</td>\n",
       "      <td>N100CE</td>\n",
       "      <td>0.0</td>\n",
       "    </tr>\n",
       "    <tr>\n",
       "      <th>3</th>\n",
       "      <td>1953</td>\n",
       "      <td>N141FL</td>\n",
       "      <td>0.0</td>\n",
       "    </tr>\n",
       "    <tr>\n",
       "      <th>4</th>\n",
       "      <td>1953</td>\n",
       "      <td>N151FL</td>\n",
       "      <td>0.0</td>\n",
       "    </tr>\n",
       "    <tr>\n",
       "      <th>...</th>\n",
       "      <td>...</td>\n",
       "      <td>...</td>\n",
       "      <td>...</td>\n",
       "    </tr>\n",
       "    <tr>\n",
       "      <th>7378</th>\n",
       "      <td>2019</td>\n",
       "      <td>N14011</td>\n",
       "      <td>337.0</td>\n",
       "    </tr>\n",
       "    <tr>\n",
       "      <th>7379</th>\n",
       "      <td>2019</td>\n",
       "      <td>N16008</td>\n",
       "      <td>337.0</td>\n",
       "    </tr>\n",
       "    <tr>\n",
       "      <th>7380</th>\n",
       "      <td>2019</td>\n",
       "      <td>N16009</td>\n",
       "      <td>337.0</td>\n",
       "    </tr>\n",
       "    <tr>\n",
       "      <th>7381</th>\n",
       "      <td>2019</td>\n",
       "      <td>N2250U</td>\n",
       "      <td>276.0</td>\n",
       "    </tr>\n",
       "    <tr>\n",
       "      <th>7382</th>\n",
       "      <td>2019</td>\n",
       "      <td>N2749U</td>\n",
       "      <td>276.0</td>\n",
       "    </tr>\n",
       "  </tbody>\n",
       "</table>\n",
       "<p>7383 rows × 3 columns</p>\n",
       "</div>"
      ],
      "text/plain": [
       "      MANUFACTURE_YEAR TAIL_NUM  NUMBER_OF_SEATS\n",
       "0                 1944   N54514              0.0\n",
       "1                 1945   N1651M              0.0\n",
       "2                 1953   N100CE              0.0\n",
       "3                 1953   N141FL              0.0\n",
       "4                 1953   N151FL              0.0\n",
       "...                ...      ...              ...\n",
       "7378              2019   N14011            337.0\n",
       "7379              2019   N16008            337.0\n",
       "7380              2019   N16009            337.0\n",
       "7381              2019   N2250U            276.0\n",
       "7382              2019   N2749U            276.0\n",
       "\n",
       "[7383 rows x 3 columns]"
      ]
     },
     "execution_count": 13,
     "metadata": {},
     "output_type": "execute_result"
    }
   ],
   "source": [
    "def get_aircraft(url, token):\n",
    "    response = r.get(url, headers={'Authorization': token})\n",
    "    print(response)\n",
    "    return response.json()\n",
    "\n",
    "aircraft_api_response = get_aircraft(f'{base_url}aircraft', token)\n",
    "aircraft_df = pd.DataFrame.from_records(aircraft_api_response)\n",
    "aircraft_df"
   ]
  },
  {
   "cell_type": "markdown",
   "metadata": {
    "id": "d8i46jiccSrG"
   },
   "source": [
    " ## Sprawdzenie\n",
    " Uruchom kod poniżej, aby sprawdzić, czy ta część została poprawnie wykonana."
   ]
  },
  {
   "cell_type": "code",
   "execution_count": 14,
   "metadata": {
    "id": "pHH5brQscSrG"
   },
   "outputs": [],
   "source": [
    "aircraft_df_expected_shape = (7383, 3)\n",
    "assert aircraft_df_expected_shape == aircraft_df.shape"
   ]
  },
  {
   "cell_type": "markdown",
   "metadata": {
    "id": "mWgrH0AWcSrG"
   },
   "source": [
    " ## Zapis do pliku\n",
    " Tutaj zapisz ramkę `aircraft_df` do pliku `aircraft.csv` w katalogu `data/raw`."
   ]
  },
  {
   "cell_type": "code",
   "execution_count": 15,
   "metadata": {
    "id": "mKmE38mycSrH"
   },
   "outputs": [],
   "source": [
    "aircraft_df.to_csv(r'C:\\Users\\pawgolen\\Desktop\\Pliki_do_projektu_koncowego\\data\\raw\\aircraft.csv', index = False)"
   ]
  },
  {
   "cell_type": "markdown",
   "metadata": {
    "id": "MXI-QwVbcSrH"
   },
   "source": [
    " # Pobranie `Flight`\n",
    " Zapoznaj się z dokumentacją endpointu `flights`, następnie pobierz dane dotyczące ruchu lotniczego. Wyniki zapisz do ramki `flight_df`, a później do pliku `flight.csv`.\n",
    "\n",
    " Wskazówki:\n",
    " - Zwróć szczególną uwagę na konstrukcję endpointa,\n",
    " - Ze względu na wolumen danych, które tutaj się pobiorą, odradzamy zapisywanie danych bezpośrednio do ramki. Rekomendujemy podejście podobne do tego, z warsztatu na kursie `Python - analiza danych` - `Dzień 10 - Warsztat > Warsztat > Scrapowanie danych`,\n",
    " - Data początkowa danych to `2019-01-01`, zaś końcowa to `2020-03-31`, czyli 456 dni,\n",
    " - Ze względu na czas, jaki ten krok będzie się wykonywał, warto dodać w pętli instrukcję (lub kilka) `print`, aby monitorować przebieg wykonywania tego kroku."
   ]
  },
  {
   "cell_type": "code",
   "execution_count": 16,
   "metadata": {
    "collapsed": true,
    "id": "X7hWOqzCcSrH",
    "jupyter": {
     "outputs_hidden": true
    },
    "tags": []
   },
   "outputs": [
    {
     "name": "stdout",
     "output_type": "stream",
     "text": [
      "Getting flights for date: 2019-01\n",
      "Getting flights for date: 2019-02\n",
      "Getting flights for date: 2019-03\n",
      "Getting flights for date: 2019-04\n",
      "Getting flights for date: 2019-05\n",
      "Getting flights for date: 2019-06\n",
      "Getting flights for date: 2019-07\n",
      "Getting flights for date: 2019-08\n",
      "Getting flights for date: 2019-09\n",
      "Getting flights for date: 2019-10\n",
      "Getting flights for date: 2019-11\n",
      "Getting flights for date: 2019-12\n",
      "Getting flights for date: 2020-01\n",
      "Getting flights for date: 2020-02\n",
      "Getting flights for date: 2020-03\n",
      "Getting flights for date: 2019-01\n",
      "Getting flights for date: 2019-02\n",
      "Getting flights for date: 2019-03\n",
      "Getting flights for date: 2019-04\n",
      "Getting flights for date: 2019-05\n",
      "Getting flights for date: 2019-06\n",
      "Getting flights for date: 2019-07\n",
      "Getting flights for date: 2019-08\n",
      "Getting flights for date: 2019-09\n",
      "Getting flights for date: 2019-10\n",
      "Getting flights for date: 2019-11\n",
      "Getting flights for date: 2019-12\n",
      "Getting flights for date: 2020-01\n",
      "Getting flights for date: 2020-02\n",
      "Getting flights for date: 2020-03\n",
      "Getting flights for date: 2019-01\n",
      "Getting flights for date: 2019-02\n",
      "Getting flights for date: 2019-03\n",
      "Getting flights for date: 2019-04\n",
      "Getting flights for date: 2019-05\n",
      "Getting flights for date: 2019-06\n",
      "Getting flights for date: 2019-07\n",
      "Getting flights for date: 2019-08\n",
      "Getting flights for date: 2019-09\n",
      "Getting flights for date: 2019-10\n",
      "Getting flights for date: 2019-11\n",
      "Getting flights for date: 2019-12\n",
      "Getting flights for date: 2020-01\n",
      "Getting flights for date: 2020-02\n",
      "Getting flights for date: 2020-03\n",
      "Getting flights for date: 2019-01\n",
      "Getting flights for date: 2019-02\n",
      "Getting flights for date: 2019-03\n",
      "Getting flights for date: 2019-04\n",
      "Getting flights for date: 2019-05\n",
      "Getting flights for date: 2019-06\n",
      "Getting flights for date: 2019-07\n",
      "Getting flights for date: 2019-08\n",
      "Getting flights for date: 2019-09\n",
      "Getting flights for date: 2019-10\n",
      "Getting flights for date: 2019-11\n",
      "Getting flights for date: 2019-12\n",
      "Getting flights for date: 2020-01\n",
      "Getting flights for date: 2020-02\n",
      "Getting flights for date: 2020-03\n",
      "Getting flights for date: 2019-01\n",
      "Getting flights for date: 2019-02\n",
      "Getting flights for date: 2019-03\n",
      "Getting flights for date: 2019-04\n",
      "Getting flights for date: 2019-05\n",
      "Getting flights for date: 2019-06\n",
      "Getting flights for date: 2019-07\n",
      "Getting flights for date: 2019-08\n",
      "Getting flights for date: 2019-09\n",
      "Getting flights for date: 2019-10\n"
     ]
    },
    {
     "ename": "KeyboardInterrupt",
     "evalue": "",
     "output_type": "error",
     "traceback": [
      "\u001b[1;31m---------------------------------------------------------------------------\u001b[0m",
      "\u001b[1;31mKeyboardInterrupt\u001b[0m                         Traceback (most recent call last)",
      "Input \u001b[1;32mIn [16]\u001b[0m, in \u001b[0;36m<cell line: 69>\u001b[1;34m()\u001b[0m\n\u001b[0;32m     64\u001b[0m     \u001b[38;5;28;01mreturn\u001b[39;00m flight\n\u001b[0;32m     66\u001b[0m \u001b[38;5;66;03m# df = pd.json_normalize(get_flights(airport_id, date_range))\u001b[39;00m\n\u001b[0;32m     67\u001b[0m \u001b[38;5;66;03m# flights_df = df.to_csv(r'C:\\Users\\pawgolen\\Desktop\\Pliki_do_projektu_koncowego\\data\\raw\\flight.csv', sep=';', encoding='UTF-8', index=False)\u001b[39;00m\n\u001b[1;32m---> 69\u001b[0m flights \u001b[38;5;241m=\u001b[39m \u001b[43mget_flights\u001b[49m\u001b[43m(\u001b[49m\u001b[43mairport_lst_part\u001b[49m\u001b[43m,\u001b[49m\u001b[43m \u001b[49m\u001b[43mdate_range\u001b[49m\u001b[43m)\u001b[49m\n\u001b[0;32m     70\u001b[0m flights_df \u001b[38;5;241m=\u001b[39m pd\u001b[38;5;241m.\u001b[39mDataFrame\u001b[38;5;241m.\u001b[39mfrom_records(flights)\n\u001b[0;32m     71\u001b[0m flights_df\u001b[38;5;241m.\u001b[39mshape\n",
      "Input \u001b[1;32mIn [16]\u001b[0m, in \u001b[0;36mget_flights\u001b[1;34m(airport_lst_part, date_range)\u001b[0m\n\u001b[0;32m     57\u001b[0m \u001b[38;5;28;01mfor\u001b[39;00m each_date \u001b[38;5;129;01min\u001b[39;00m date_range:\n\u001b[0;32m     58\u001b[0m     \u001b[38;5;28mprint\u001b[39m(\u001b[38;5;124mf\u001b[39m\u001b[38;5;124m\"\u001b[39m\u001b[38;5;124mGetting flights for date: \u001b[39m\u001b[38;5;132;01m{\u001b[39;00meach_date\u001b[38;5;241m.\u001b[39mstrftime(\u001b[38;5;124m'\u001b[39m\u001b[38;5;124m%\u001b[39m\u001b[38;5;124mY-\u001b[39m\u001b[38;5;124m%\u001b[39m\u001b[38;5;124mm\u001b[39m\u001b[38;5;124m'\u001b[39m)\u001b[38;5;132;01m}\u001b[39;00m\u001b[38;5;124m\"\u001b[39m)\n\u001b[1;32m---> 59\u001b[0m     flights_data \u001b[38;5;241m=\u001b[39m \u001b[43mget_data\u001b[49m\u001b[43m(\u001b[49m\u001b[38;5;124;43mf\u001b[39;49m\u001b[38;5;124;43m'\u001b[39;49m\u001b[38;5;124;43mhttps://api-datalab.coderslab.com/api/flight\u001b[39;49m\u001b[38;5;124;43m'\u001b[39;49m\u001b[43m,\u001b[49m\u001b[43m \u001b[49m\u001b[43mtoken\u001b[49m\u001b[43m,\u001b[49m\u001b[43m \u001b[49m\u001b[43mquery_params\u001b[49m\u001b[43m \u001b[49m\u001b[38;5;241;43m=\u001b[39;49m\u001b[43m \u001b[49m\u001b[43m{\u001b[49m\u001b[38;5;124;43m'\u001b[39;49m\u001b[38;5;124;43mairportId\u001b[39;49m\u001b[38;5;124;43m'\u001b[39;49m\u001b[43m:\u001b[49m\u001b[43m \u001b[49m\u001b[43meach_airport\u001b[49m\u001b[43m,\u001b[49m\u001b[43m \u001b[49m\u001b[38;5;124;43m'\u001b[39;49m\u001b[38;5;124;43mdate\u001b[39;49m\u001b[38;5;124;43m'\u001b[39;49m\u001b[43m:\u001b[49m\u001b[43m \u001b[49m\u001b[43meach_date\u001b[49m\u001b[43m}\u001b[49m\u001b[43m)\u001b[49m\n\u001b[0;32m     60\u001b[0m     \u001b[38;5;28;01mif\u001b[39;00m flights_data \u001b[38;5;129;01mis\u001b[39;00m \u001b[38;5;129;01mnot\u001b[39;00m \u001b[38;5;28;01mNone\u001b[39;00m:\n\u001b[0;32m     61\u001b[0m         flight\u001b[38;5;241m.\u001b[39mextend(flights_data)\n",
      "Input \u001b[1;32mIn [16]\u001b[0m, in \u001b[0;36mget_data\u001b[1;34m(url, token, query_params)\u001b[0m\n\u001b[0;32m     47\u001b[0m \u001b[38;5;28;01mdef\u001b[39;00m \u001b[38;5;21mget_data\u001b[39m(url, token, query_params\u001b[38;5;241m=\u001b[39m{}):\n\u001b[1;32m---> 48\u001b[0m     response \u001b[38;5;241m=\u001b[39m \u001b[43mr\u001b[49m\u001b[38;5;241;43m.\u001b[39;49m\u001b[43mget\u001b[49m\u001b[43m(\u001b[49m\u001b[43murl\u001b[49m\u001b[43m,\u001b[49m\u001b[43m \u001b[49m\u001b[43mheaders\u001b[49m\u001b[43m \u001b[49m\u001b[38;5;241;43m=\u001b[39;49m\u001b[43m \u001b[49m\u001b[43m{\u001b[49m\u001b[38;5;124;43m'\u001b[39;49m\u001b[38;5;124;43mAuthorization\u001b[39;49m\u001b[38;5;124;43m'\u001b[39;49m\u001b[43m:\u001b[49m\u001b[43m \u001b[49m\u001b[43mtoken\u001b[49m\u001b[43m}\u001b[49m\u001b[43m,\u001b[49m\u001b[43m \u001b[49m\u001b[43mparams\u001b[49m\u001b[43m \u001b[49m\u001b[38;5;241;43m=\u001b[39;49m\u001b[43m \u001b[49m\u001b[43mquery_params\u001b[49m\u001b[43m)\u001b[49m\n\u001b[0;32m     49\u001b[0m     \u001b[38;5;66;03m#print(response.status_code)\u001b[39;00m\n\u001b[0;32m     50\u001b[0m     \u001b[38;5;28;01mif\u001b[39;00m response\u001b[38;5;241m.\u001b[39mstatus_code \u001b[38;5;241m==\u001b[39m \u001b[38;5;241m200\u001b[39m:\n",
      "File \u001b[1;32m~\\Anaconda3\\lib\\site-packages\\requests\\api.py:75\u001b[0m, in \u001b[0;36mget\u001b[1;34m(url, params, **kwargs)\u001b[0m\n\u001b[0;32m     64\u001b[0m \u001b[38;5;28;01mdef\u001b[39;00m \u001b[38;5;21mget\u001b[39m(url, params\u001b[38;5;241m=\u001b[39m\u001b[38;5;28;01mNone\u001b[39;00m, \u001b[38;5;241m*\u001b[39m\u001b[38;5;241m*\u001b[39mkwargs):\n\u001b[0;32m     65\u001b[0m     \u001b[38;5;124mr\u001b[39m\u001b[38;5;124;03m\"\"\"Sends a GET request.\u001b[39;00m\n\u001b[0;32m     66\u001b[0m \n\u001b[0;32m     67\u001b[0m \u001b[38;5;124;03m    :param url: URL for the new :class:`Request` object.\u001b[39;00m\n\u001b[1;32m   (...)\u001b[0m\n\u001b[0;32m     72\u001b[0m \u001b[38;5;124;03m    :rtype: requests.Response\u001b[39;00m\n\u001b[0;32m     73\u001b[0m \u001b[38;5;124;03m    \"\"\"\u001b[39;00m\n\u001b[1;32m---> 75\u001b[0m     \u001b[38;5;28;01mreturn\u001b[39;00m request(\u001b[38;5;124m'\u001b[39m\u001b[38;5;124mget\u001b[39m\u001b[38;5;124m'\u001b[39m, url, params\u001b[38;5;241m=\u001b[39mparams, \u001b[38;5;241m*\u001b[39m\u001b[38;5;241m*\u001b[39mkwargs)\n",
      "File \u001b[1;32m~\\Anaconda3\\lib\\site-packages\\requests\\api.py:61\u001b[0m, in \u001b[0;36mrequest\u001b[1;34m(method, url, **kwargs)\u001b[0m\n\u001b[0;32m     57\u001b[0m \u001b[38;5;66;03m# By using the 'with' statement we are sure the session is closed, thus we\u001b[39;00m\n\u001b[0;32m     58\u001b[0m \u001b[38;5;66;03m# avoid leaving sockets open which can trigger a ResourceWarning in some\u001b[39;00m\n\u001b[0;32m     59\u001b[0m \u001b[38;5;66;03m# cases, and look like a memory leak in others.\u001b[39;00m\n\u001b[0;32m     60\u001b[0m \u001b[38;5;28;01mwith\u001b[39;00m sessions\u001b[38;5;241m.\u001b[39mSession() \u001b[38;5;28;01mas\u001b[39;00m session:\n\u001b[1;32m---> 61\u001b[0m     \u001b[38;5;28;01mreturn\u001b[39;00m session\u001b[38;5;241m.\u001b[39mrequest(method\u001b[38;5;241m=\u001b[39mmethod, url\u001b[38;5;241m=\u001b[39murl, \u001b[38;5;241m*\u001b[39m\u001b[38;5;241m*\u001b[39mkwargs)\n",
      "File \u001b[1;32m~\\Anaconda3\\lib\\site-packages\\requests\\sessions.py:529\u001b[0m, in \u001b[0;36mSession.request\u001b[1;34m(self, method, url, params, data, headers, cookies, files, auth, timeout, allow_redirects, proxies, hooks, stream, verify, cert, json)\u001b[0m\n\u001b[0;32m    524\u001b[0m send_kwargs \u001b[38;5;241m=\u001b[39m {\n\u001b[0;32m    525\u001b[0m     \u001b[38;5;124m'\u001b[39m\u001b[38;5;124mtimeout\u001b[39m\u001b[38;5;124m'\u001b[39m: timeout,\n\u001b[0;32m    526\u001b[0m     \u001b[38;5;124m'\u001b[39m\u001b[38;5;124mallow_redirects\u001b[39m\u001b[38;5;124m'\u001b[39m: allow_redirects,\n\u001b[0;32m    527\u001b[0m }\n\u001b[0;32m    528\u001b[0m send_kwargs\u001b[38;5;241m.\u001b[39mupdate(settings)\n\u001b[1;32m--> 529\u001b[0m resp \u001b[38;5;241m=\u001b[39m \u001b[38;5;28mself\u001b[39m\u001b[38;5;241m.\u001b[39msend(prep, \u001b[38;5;241m*\u001b[39m\u001b[38;5;241m*\u001b[39msend_kwargs)\n\u001b[0;32m    531\u001b[0m \u001b[38;5;28;01mreturn\u001b[39;00m resp\n",
      "File \u001b[1;32m~\\Anaconda3\\lib\\site-packages\\requests\\sessions.py:687\u001b[0m, in \u001b[0;36mSession.send\u001b[1;34m(self, request, **kwargs)\u001b[0m\n\u001b[0;32m    684\u001b[0m         \u001b[38;5;28;01mpass\u001b[39;00m\n\u001b[0;32m    686\u001b[0m \u001b[38;5;28;01mif\u001b[39;00m \u001b[38;5;129;01mnot\u001b[39;00m stream:\n\u001b[1;32m--> 687\u001b[0m     \u001b[43mr\u001b[49m\u001b[38;5;241;43m.\u001b[39;49m\u001b[43mcontent\u001b[49m\n\u001b[0;32m    689\u001b[0m \u001b[38;5;28;01mreturn\u001b[39;00m r\n",
      "File \u001b[1;32m~\\Anaconda3\\lib\\site-packages\\requests\\models.py:838\u001b[0m, in \u001b[0;36mResponse.content\u001b[1;34m(self)\u001b[0m\n\u001b[0;32m    836\u001b[0m         \u001b[38;5;28mself\u001b[39m\u001b[38;5;241m.\u001b[39m_content \u001b[38;5;241m=\u001b[39m \u001b[38;5;28;01mNone\u001b[39;00m\n\u001b[0;32m    837\u001b[0m     \u001b[38;5;28;01melse\u001b[39;00m:\n\u001b[1;32m--> 838\u001b[0m         \u001b[38;5;28mself\u001b[39m\u001b[38;5;241m.\u001b[39m_content \u001b[38;5;241m=\u001b[39m \u001b[38;5;124;43mb\u001b[39;49m\u001b[38;5;124;43m'\u001b[39;49m\u001b[38;5;124;43m'\u001b[39;49m\u001b[38;5;241;43m.\u001b[39;49m\u001b[43mjoin\u001b[49m\u001b[43m(\u001b[49m\u001b[38;5;28;43mself\u001b[39;49m\u001b[38;5;241;43m.\u001b[39;49m\u001b[43miter_content\u001b[49m\u001b[43m(\u001b[49m\u001b[43mCONTENT_CHUNK_SIZE\u001b[49m\u001b[43m)\u001b[49m\u001b[43m)\u001b[49m \u001b[38;5;129;01mor\u001b[39;00m \u001b[38;5;124mb\u001b[39m\u001b[38;5;124m'\u001b[39m\u001b[38;5;124m'\u001b[39m\n\u001b[0;32m    840\u001b[0m \u001b[38;5;28mself\u001b[39m\u001b[38;5;241m.\u001b[39m_content_consumed \u001b[38;5;241m=\u001b[39m \u001b[38;5;28;01mTrue\u001b[39;00m\n\u001b[0;32m    841\u001b[0m \u001b[38;5;66;03m# don't need to release the connection; that's been handled by urllib3\u001b[39;00m\n\u001b[0;32m    842\u001b[0m \u001b[38;5;66;03m# since we exhausted the data.\u001b[39;00m\n",
      "File \u001b[1;32m~\\Anaconda3\\lib\\site-packages\\requests\\models.py:760\u001b[0m, in \u001b[0;36mResponse.iter_content.<locals>.generate\u001b[1;34m()\u001b[0m\n\u001b[0;32m    758\u001b[0m \u001b[38;5;28;01mif\u001b[39;00m \u001b[38;5;28mhasattr\u001b[39m(\u001b[38;5;28mself\u001b[39m\u001b[38;5;241m.\u001b[39mraw, \u001b[38;5;124m'\u001b[39m\u001b[38;5;124mstream\u001b[39m\u001b[38;5;124m'\u001b[39m):\n\u001b[0;32m    759\u001b[0m     \u001b[38;5;28;01mtry\u001b[39;00m:\n\u001b[1;32m--> 760\u001b[0m         \u001b[38;5;28;01mfor\u001b[39;00m chunk \u001b[38;5;129;01min\u001b[39;00m \u001b[38;5;28mself\u001b[39m\u001b[38;5;241m.\u001b[39mraw\u001b[38;5;241m.\u001b[39mstream(chunk_size, decode_content\u001b[38;5;241m=\u001b[39m\u001b[38;5;28;01mTrue\u001b[39;00m):\n\u001b[0;32m    761\u001b[0m             \u001b[38;5;28;01myield\u001b[39;00m chunk\n\u001b[0;32m    762\u001b[0m     \u001b[38;5;28;01mexcept\u001b[39;00m ProtocolError \u001b[38;5;28;01mas\u001b[39;00m e:\n",
      "File \u001b[1;32m~\\Anaconda3\\lib\\site-packages\\urllib3\\response.py:579\u001b[0m, in \u001b[0;36mHTTPResponse.stream\u001b[1;34m(self, amt, decode_content)\u001b[0m\n\u001b[0;32m    577\u001b[0m \u001b[38;5;28;01melse\u001b[39;00m:\n\u001b[0;32m    578\u001b[0m     \u001b[38;5;28;01mwhile\u001b[39;00m \u001b[38;5;129;01mnot\u001b[39;00m is_fp_closed(\u001b[38;5;28mself\u001b[39m\u001b[38;5;241m.\u001b[39m_fp):\n\u001b[1;32m--> 579\u001b[0m         data \u001b[38;5;241m=\u001b[39m \u001b[38;5;28;43mself\u001b[39;49m\u001b[38;5;241;43m.\u001b[39;49m\u001b[43mread\u001b[49m\u001b[43m(\u001b[49m\u001b[43mamt\u001b[49m\u001b[38;5;241;43m=\u001b[39;49m\u001b[43mamt\u001b[49m\u001b[43m,\u001b[49m\u001b[43m \u001b[49m\u001b[43mdecode_content\u001b[49m\u001b[38;5;241;43m=\u001b[39;49m\u001b[43mdecode_content\u001b[49m\u001b[43m)\u001b[49m\n\u001b[0;32m    581\u001b[0m         \u001b[38;5;28;01mif\u001b[39;00m data:\n\u001b[0;32m    582\u001b[0m             \u001b[38;5;28;01myield\u001b[39;00m data\n",
      "File \u001b[1;32m~\\Anaconda3\\lib\\site-packages\\urllib3\\response.py:522\u001b[0m, in \u001b[0;36mHTTPResponse.read\u001b[1;34m(self, amt, decode_content, cache_content)\u001b[0m\n\u001b[0;32m    520\u001b[0m \u001b[38;5;28;01melse\u001b[39;00m:\n\u001b[0;32m    521\u001b[0m     cache_content \u001b[38;5;241m=\u001b[39m \u001b[38;5;28;01mFalse\u001b[39;00m\n\u001b[1;32m--> 522\u001b[0m     data \u001b[38;5;241m=\u001b[39m \u001b[38;5;28;43mself\u001b[39;49m\u001b[38;5;241;43m.\u001b[39;49m\u001b[43m_fp\u001b[49m\u001b[38;5;241;43m.\u001b[39;49m\u001b[43mread\u001b[49m\u001b[43m(\u001b[49m\u001b[43mamt\u001b[49m\u001b[43m)\u001b[49m \u001b[38;5;28;01mif\u001b[39;00m \u001b[38;5;129;01mnot\u001b[39;00m fp_closed \u001b[38;5;28;01melse\u001b[39;00m \u001b[38;5;124mb\u001b[39m\u001b[38;5;124m\"\u001b[39m\u001b[38;5;124m\"\u001b[39m\n\u001b[0;32m    523\u001b[0m     \u001b[38;5;28;01mif\u001b[39;00m (\n\u001b[0;32m    524\u001b[0m         amt \u001b[38;5;241m!=\u001b[39m \u001b[38;5;241m0\u001b[39m \u001b[38;5;129;01mand\u001b[39;00m \u001b[38;5;129;01mnot\u001b[39;00m data\n\u001b[0;32m    525\u001b[0m     ):  \u001b[38;5;66;03m# Platform-specific: Buggy versions of Python.\u001b[39;00m\n\u001b[1;32m   (...)\u001b[0m\n\u001b[0;32m    531\u001b[0m         \u001b[38;5;66;03m# not properly close the connection in all cases. There is\u001b[39;00m\n\u001b[0;32m    532\u001b[0m         \u001b[38;5;66;03m# no harm in redundantly calling close.\u001b[39;00m\n\u001b[0;32m    533\u001b[0m         \u001b[38;5;28mself\u001b[39m\u001b[38;5;241m.\u001b[39m_fp\u001b[38;5;241m.\u001b[39mclose()\n",
      "File \u001b[1;32m~\\Anaconda3\\lib\\http\\client.py:463\u001b[0m, in \u001b[0;36mHTTPResponse.read\u001b[1;34m(self, amt)\u001b[0m\n\u001b[0;32m    460\u001b[0m \u001b[38;5;28;01mif\u001b[39;00m amt \u001b[38;5;129;01mis\u001b[39;00m \u001b[38;5;129;01mnot\u001b[39;00m \u001b[38;5;28;01mNone\u001b[39;00m:\n\u001b[0;32m    461\u001b[0m     \u001b[38;5;66;03m# Amount is given, implement using readinto\u001b[39;00m\n\u001b[0;32m    462\u001b[0m     b \u001b[38;5;241m=\u001b[39m \u001b[38;5;28mbytearray\u001b[39m(amt)\n\u001b[1;32m--> 463\u001b[0m     n \u001b[38;5;241m=\u001b[39m \u001b[38;5;28;43mself\u001b[39;49m\u001b[38;5;241;43m.\u001b[39;49m\u001b[43mreadinto\u001b[49m\u001b[43m(\u001b[49m\u001b[43mb\u001b[49m\u001b[43m)\u001b[49m\n\u001b[0;32m    464\u001b[0m     \u001b[38;5;28;01mreturn\u001b[39;00m \u001b[38;5;28mmemoryview\u001b[39m(b)[:n]\u001b[38;5;241m.\u001b[39mtobytes()\n\u001b[0;32m    465\u001b[0m \u001b[38;5;28;01melse\u001b[39;00m:\n\u001b[0;32m    466\u001b[0m     \u001b[38;5;66;03m# Amount is not given (unbounded read) so we must check self.length\u001b[39;00m\n\u001b[0;32m    467\u001b[0m     \u001b[38;5;66;03m# and self.chunked\u001b[39;00m\n",
      "File \u001b[1;32m~\\Anaconda3\\lib\\http\\client.py:507\u001b[0m, in \u001b[0;36mHTTPResponse.readinto\u001b[1;34m(self, b)\u001b[0m\n\u001b[0;32m    502\u001b[0m         b \u001b[38;5;241m=\u001b[39m \u001b[38;5;28mmemoryview\u001b[39m(b)[\u001b[38;5;241m0\u001b[39m:\u001b[38;5;28mself\u001b[39m\u001b[38;5;241m.\u001b[39mlength]\n\u001b[0;32m    504\u001b[0m \u001b[38;5;66;03m# we do not use _safe_read() here because this may be a .will_close\u001b[39;00m\n\u001b[0;32m    505\u001b[0m \u001b[38;5;66;03m# connection, and the user is reading more bytes than will be provided\u001b[39;00m\n\u001b[0;32m    506\u001b[0m \u001b[38;5;66;03m# (for example, reading in 1k chunks)\u001b[39;00m\n\u001b[1;32m--> 507\u001b[0m n \u001b[38;5;241m=\u001b[39m \u001b[38;5;28;43mself\u001b[39;49m\u001b[38;5;241;43m.\u001b[39;49m\u001b[43mfp\u001b[49m\u001b[38;5;241;43m.\u001b[39;49m\u001b[43mreadinto\u001b[49m\u001b[43m(\u001b[49m\u001b[43mb\u001b[49m\u001b[43m)\u001b[49m\n\u001b[0;32m    508\u001b[0m \u001b[38;5;28;01mif\u001b[39;00m \u001b[38;5;129;01mnot\u001b[39;00m n \u001b[38;5;129;01mand\u001b[39;00m b:\n\u001b[0;32m    509\u001b[0m     \u001b[38;5;66;03m# Ideally, we would raise IncompleteRead if the content-length\u001b[39;00m\n\u001b[0;32m    510\u001b[0m     \u001b[38;5;66;03m# wasn't satisfied, but it might break compatibility.\u001b[39;00m\n\u001b[0;32m    511\u001b[0m     \u001b[38;5;28mself\u001b[39m\u001b[38;5;241m.\u001b[39m_close_conn()\n",
      "File \u001b[1;32m~\\Anaconda3\\lib\\socket.py:704\u001b[0m, in \u001b[0;36mSocketIO.readinto\u001b[1;34m(self, b)\u001b[0m\n\u001b[0;32m    702\u001b[0m \u001b[38;5;28;01mwhile\u001b[39;00m \u001b[38;5;28;01mTrue\u001b[39;00m:\n\u001b[0;32m    703\u001b[0m     \u001b[38;5;28;01mtry\u001b[39;00m:\n\u001b[1;32m--> 704\u001b[0m         \u001b[38;5;28;01mreturn\u001b[39;00m \u001b[38;5;28;43mself\u001b[39;49m\u001b[38;5;241;43m.\u001b[39;49m\u001b[43m_sock\u001b[49m\u001b[38;5;241;43m.\u001b[39;49m\u001b[43mrecv_into\u001b[49m\u001b[43m(\u001b[49m\u001b[43mb\u001b[49m\u001b[43m)\u001b[49m\n\u001b[0;32m    705\u001b[0m     \u001b[38;5;28;01mexcept\u001b[39;00m timeout:\n\u001b[0;32m    706\u001b[0m         \u001b[38;5;28mself\u001b[39m\u001b[38;5;241m.\u001b[39m_timeout_occurred \u001b[38;5;241m=\u001b[39m \u001b[38;5;28;01mTrue\u001b[39;00m\n",
      "File \u001b[1;32m~\\Anaconda3\\lib\\ssl.py:1241\u001b[0m, in \u001b[0;36mSSLSocket.recv_into\u001b[1;34m(self, buffer, nbytes, flags)\u001b[0m\n\u001b[0;32m   1237\u001b[0m     \u001b[38;5;28;01mif\u001b[39;00m flags \u001b[38;5;241m!=\u001b[39m \u001b[38;5;241m0\u001b[39m:\n\u001b[0;32m   1238\u001b[0m         \u001b[38;5;28;01mraise\u001b[39;00m \u001b[38;5;167;01mValueError\u001b[39;00m(\n\u001b[0;32m   1239\u001b[0m           \u001b[38;5;124m\"\u001b[39m\u001b[38;5;124mnon-zero flags not allowed in calls to recv_into() on \u001b[39m\u001b[38;5;132;01m%s\u001b[39;00m\u001b[38;5;124m\"\u001b[39m \u001b[38;5;241m%\u001b[39m\n\u001b[0;32m   1240\u001b[0m           \u001b[38;5;28mself\u001b[39m\u001b[38;5;241m.\u001b[39m\u001b[38;5;18m__class__\u001b[39m)\n\u001b[1;32m-> 1241\u001b[0m     \u001b[38;5;28;01mreturn\u001b[39;00m \u001b[38;5;28;43mself\u001b[39;49m\u001b[38;5;241;43m.\u001b[39;49m\u001b[43mread\u001b[49m\u001b[43m(\u001b[49m\u001b[43mnbytes\u001b[49m\u001b[43m,\u001b[49m\u001b[43m \u001b[49m\u001b[43mbuffer\u001b[49m\u001b[43m)\u001b[49m\n\u001b[0;32m   1242\u001b[0m \u001b[38;5;28;01melse\u001b[39;00m:\n\u001b[0;32m   1243\u001b[0m     \u001b[38;5;28;01mreturn\u001b[39;00m \u001b[38;5;28msuper\u001b[39m()\u001b[38;5;241m.\u001b[39mrecv_into(buffer, nbytes, flags)\n",
      "File \u001b[1;32m~\\Anaconda3\\lib\\ssl.py:1099\u001b[0m, in \u001b[0;36mSSLSocket.read\u001b[1;34m(self, len, buffer)\u001b[0m\n\u001b[0;32m   1097\u001b[0m \u001b[38;5;28;01mtry\u001b[39;00m:\n\u001b[0;32m   1098\u001b[0m     \u001b[38;5;28;01mif\u001b[39;00m buffer \u001b[38;5;129;01mis\u001b[39;00m \u001b[38;5;129;01mnot\u001b[39;00m \u001b[38;5;28;01mNone\u001b[39;00m:\n\u001b[1;32m-> 1099\u001b[0m         \u001b[38;5;28;01mreturn\u001b[39;00m \u001b[38;5;28;43mself\u001b[39;49m\u001b[38;5;241;43m.\u001b[39;49m\u001b[43m_sslobj\u001b[49m\u001b[38;5;241;43m.\u001b[39;49m\u001b[43mread\u001b[49m\u001b[43m(\u001b[49m\u001b[38;5;28;43mlen\u001b[39;49m\u001b[43m,\u001b[49m\u001b[43m \u001b[49m\u001b[43mbuffer\u001b[49m\u001b[43m)\u001b[49m\n\u001b[0;32m   1100\u001b[0m     \u001b[38;5;28;01melse\u001b[39;00m:\n\u001b[0;32m   1101\u001b[0m         \u001b[38;5;28;01mreturn\u001b[39;00m \u001b[38;5;28mself\u001b[39m\u001b[38;5;241m.\u001b[39m_sslobj\u001b[38;5;241m.\u001b[39mread(\u001b[38;5;28mlen\u001b[39m)\n",
      "\u001b[1;31mKeyboardInterrupt\u001b[0m: "
     ]
    }
   ],
   "source": [
    "airport_lst_part = [10874, 11233, 13360, 15008, 11638, 14150, 15323, 14814, 12007,\n",
    "                    11337, 13342, 15070, 13244, 12280, 15096, 11641, 13832, 10268,\n",
    "                    10397, 15041, 10529, 12119, 11537, 11092, 10581, 13829, 15389,\n",
    "                    10140, 12389, 11648, 15023, 11982, 10967, 11525, 10792, 14259,\n",
    "                    11637, 10466, 10599, 10208, 15841, 14831, 12898, 13241, 13367,\n",
    "                    11481, 14108, 13931, 13873, 10157, 10245, 11146, 13277, 11292,\n",
    "                    11109, 13459, 11775, 16218, 14698, 14252, 13256, 13139, 12250,\n",
    "                    11259, 11468, 14952, 12402, 14574, 11996, 11977, 11867, 11203,\n",
    "                    11995, 15016, 10747, 14905, 12012, 14783, 14730, 10431, 10434,\n",
    "                    16869, 10408, 12264, 11618, 15304, 13577, 12954, 11624, 13541,\n",
    "                    13422, 14057, 13232, 10800, 14689, 12391, 10868, 14711, 10257,\n",
    "                    11067, 10562, 11695, 13796, 14109, 13970, 14193, 11076, 14092,\n",
    "                    11122, 11288, 11308, 10754, 12884, 15376, 14588, 11884, 12915,\n",
    "                    13851, 14843, 11603, 14457, 12206, 11252, 11905, 15412, 14120,\n",
    "                    11980, 14025, 11150, 14709, 15897, 14107, 14006, 14747, 12902,\n",
    "                    13061, 12016, 14794, 11921, 10731, 14828, 12889, 12441, 14802,\n",
    "                    13230, 10631, 14492, 10141, 13204, 12992, 13184, 10643, 10333,\n",
    "                    12255, 14487, 12129, 10551, 13871, 14256, 11066, 13377, 13487,\n",
    "                    10627, 12335, 14633, 11274, 14543, 10299, 10158, 12951, 14004,\n",
    "                    12544, 10739, 10165, 13964, 14314, 10990, 14812, 12339, 10561,\n",
    "                    10146, 12451, 15991, 11423, 15401, 11587, 14520, 11042, 10185,\n",
    "                    11278, 14534, 14100, 14321, 11111]\n",
    "\n",
    "\n",
    "# airport_lst_part = [15024, 12917, 12124, 12523, 10821, 10721, 11630, 10170, 12448,\n",
    "#                     12953, 10918, 15356, 13344, 10676, 10926, 14307, 14635, 12156,\n",
    "#                     12244, 10666, 11612, 13476, 13029, 11267, 15411, 14986, 11471,\n",
    "#                     12758, 14576, 10155, 13486, 14716, 13296, 11283, 10732, 12266,\n",
    "#                     12892, 11003, 12094, 14685, 13158, 13121, 11540, 14877, 12217,\n",
    "#                     11697, 10372, 13264, 10469, 11336, 14683, 14112, 13502, 14524,\n",
    "#                     15027, 11973, 12173, 10361, 13388, 13891, 10577, 11433, 13290,\n",
    "#                     11298, 14771, 11577, 11140, 11057, 15048, 14960, 15295, 11865,\n",
    "#                     14893, 11049, 13495, 11953, 12223, 14254, 11823, 15380, 11447,\n",
    "#                     12003, 14489, 14908, 11986, 14082, 12191, 14113, 12891, 15249,\n",
    "#                     12819, 14570, 12323, 14679, 12343, 13076, 11503, 11617, 10728,\n",
    "#                     10785, 14869, 14027, 14674, 12197, 14696, 13485, 10781, 10849,\n",
    "#                     14955, 13433, 15074, 13127, 11013, 14122, 10154, 10980, 14098,\n",
    "#                     12982, 14512, 12278, 15919, 12478, 13830, 13933, 13930, 11997,\n",
    "#                     11027, 15582, 11721, 12896, 10279, 11778, 12888, 14262, 11415,\n",
    "#                     10685, 14842, 14761, 11193, 12265, 14288, 10713, 12397, 15624,\n",
    "#                     10994, 10409, 12519, 10136, 15607, 14237, 10779, 11898, 11413,\n",
    "#                     13983, 10558, 10620, 14222, 13198, 10423, 11097, 15454, 15370,\n",
    "#                     12899, 10135, 12177, 13303, 13795, 10693, 12945, 12511]\n",
    "\n",
    "\n",
    "\n",
    "def get_data(url, token, query_params={}):\n",
    "    response = r.get(url, headers = {'Authorization': token}, params = query_params)\n",
    "    #print(response.status_code)\n",
    "    if response.status_code == 200:\n",
    "        return response.json()\n",
    "\n",
    "\n",
    "def get_flights(airport_lst_part, date_range):\n",
    "    flight = []\n",
    "    for each_airport in airport_lst_part:\n",
    "        for each_date in date_range:\n",
    "            print(f\"Getting flights for date: {each_date.strftime('%Y-%m')}\")\n",
    "            flights_data = get_data(f'https://api-datalab.coderslab.com/api/flight', token, query_params = {'airportId': each_airport, 'date': each_date})\n",
    "            if flights_data is not None:\n",
    "                flight.extend(flights_data)\n",
    "                #print(\"Response converted to json\")\n",
    "                #time.sleep(0.01)\n",
    "    return flight\n",
    "\n",
    "# df = pd.json_normalize(get_flights(airport_id, date_range))\n",
    "# flights_df = df.to_csv(r'C:\\Users\\pawgolen\\Desktop\\Pliki_do_projektu_koncowego\\data\\raw\\flight.csv', sep=';', encoding='UTF-8', index=False)\n",
    "\n",
    "flights = get_flights(airport_lst_part, date_range)\n",
    "flights_df = pd.DataFrame.from_records(flights)\n",
    "flights_df.shape"
   ]
  },
  {
   "cell_type": "markdown",
   "metadata": {
    "id": "9UJgH0CGcSrH"
   },
   "source": [
    " ## Sprawdzenie\n",
    " Uruchom kod poniżej, aby sprawdzić, czy ta część została poprawnie wykonana."
   ]
  },
  {
   "cell_type": "code",
   "execution_count": null,
   "metadata": {
    "id": "Igrh65KgcSrH"
   },
   "outputs": [],
   "source": [
    "flight_df_expected_shape = (9251880, 27)\n",
    "assert flight_df_expected_shape == flight_df.shape"
   ]
  },
  {
   "cell_type": "markdown",
   "metadata": {
    "id": "3nfBsnwNcSrI"
   },
   "source": [
    " ## Zapis do pliku\n",
    " Tutaj zapisz ramkę `flight_df` do pliku `flight.csv` w katalogu `data/raw`."
   ]
  },
  {
   "cell_type": "code",
   "execution_count": null,
   "metadata": {
    "id": "737lnCqacSrI"
   },
   "outputs": [],
   "source": [
    "# flight_df.to_csv(r'C:\\Users\\pawgolen\\Desktop\\Pliki_do_projektu_koncowego\\data\\raw\\flight.csv', index=False)"
   ]
  },
  {
   "cell_type": "markdown",
   "metadata": {
    "id": "AbxEeR32cSrI"
   },
   "source": [
    " # Podsumowanie\n",
    " W tym notatniku wykonaliśmy podstawowy krok w analizie danych - pozyskaliśmy je. Są gotowe do dalszej pracy, czyli możemy załadować je na bazę danych, a następnie zapoznać się z tym, jakie informacje ze sobą niosą. Kolejne notatniki będą służyły właśnie tym celom."
   ]
  },
  {
   "cell_type": "code",
   "execution_count": null,
   "metadata": {
    "id": "XFsso0kKcSrI"
   },
   "outputs": [],
   "source": [
    "msg = \"Wszystko wygląda OK :) Możesz przejść do kolejnego kroku.\"\n",
    "print(msg)"
   ]
  }
 ],
 "metadata": {
  "colab": {
   "provenance": []
  },
  "kernelspec": {
   "display_name": "Python 3 (ipykernel)",
   "language": "python",
   "name": "python3"
  },
  "language_info": {
   "codemirror_mode": {
    "name": "ipython",
    "version": 3
   },
   "file_extension": ".py",
   "mimetype": "text/x-python",
   "name": "python",
   "nbconvert_exporter": "python",
   "pygments_lexer": "ipython3",
   "version": "3.9.12"
  },
  "vscode": {
   "interpreter": {
    "hash": "97b21747a2d6163ce9759ba63e94e55ef90a08103eb2c9ebee1827489f5a0c25"
   }
  }
 },
 "nbformat": 4,
 "nbformat_minor": 4
}
