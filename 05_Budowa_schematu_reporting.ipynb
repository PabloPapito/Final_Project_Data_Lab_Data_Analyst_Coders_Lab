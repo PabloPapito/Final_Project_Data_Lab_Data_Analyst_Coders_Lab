{
 "cells": [
  {
   "cell_type": "markdown",
   "metadata": {},
   "source": [
    " # Opis notatnika\n",
    " Analiza przygotowana w poprzednim kroku została odebrana pozytywnie. W związku z tym, zostaliśmy poproszeni\n",
    " o przygotowanie raportu na podstawie danych z roku 2020. Ma być on później  wdrożony przez zespół IT na zewnętrzny\n",
    " serwis. Wybór padł na `Dash`.\n",
    "\n",
    " Zadanie wykonamy w dwóch krokach:\n",
    " 1. Znając wymagania raportu, stworzymy na bazie danych odpowiednie komponenty, które zostaną następnie wykorzystane do wizualizacji.\n",
    " 1. Stworzymy raport używając `Dash`.\n",
    "\n",
    " Ten notatnik skupia się na odpowiednim przygotowaniu bazy danych pod cele raportowe."
   ]
  },
  {
   "cell_type": "markdown",
   "metadata": {},
   "source": [
    " # Wymagania biznesowe\n",
    " Po prezentacji wyników analizy na niezależnym spotkaniu, zostały określone następujące obszary raportowania:\n",
    " 1. Wyświetlanie TOP 10 lotnisk na podstawie liczby odlotów, wyświetlona ma być również informacja o liczbie przylotów - widok `top_airports_by_departure`.\n",
    " 1. Wyświetlenie TOP 10 tras na podstawie niezawodności, minimalna liczba lotów odbytych na trasie powinna wynosić co najmniej 10000. Przy czym istotna dla nas jest kolejność, przykładowo trasa (Warszawa, Paryż) jest inna niż (Paryż, Warszawa) - widok `top_reliability_roads`.\n",
    " 1. Porównanie roku 2019 vs. 2020, aby śledzić wpływ COVID na realizację lotów. Interesują nas podejścia:\n",
    "     - miesiąc do miesiąca, przykładowo styczeń 2019 vs. styczeń 2020, luty 2019 vs. luty 2020 itd. - widok `year_to_year_comparision`,\n",
    "     - dzień do dnia, przykładowo wtorek 2019 vs. wtorek 2020 - widok `day_to_day_comparision`.\n",
    " 1. Dzienny."
   ]
  },
  {
   "cell_type": "markdown",
   "metadata": {},
   "source": [
    " # Podejście techniczne do problemu\n",
    " Naszym celem będzie odseparowanie warstwy przygotowania danych (logika raportu) od warstwy prezentacyjnej (wizualizacja).\n",
    " Chcemy zapewnić, aby odpowiednie procesy zajmowały się tylko swoimi zadaniami. W ten sposób warstwa prezentacyjna powinna w jak najmniejszym stopniu przetwarzać otrzymane dane.\n",
    "\n",
    " To podejście będzie spójne ze współczesnym sposobem projektowania aplikacji. Ma to też dodatkowy benefit - ze względu na wolumen danych na bazie, nie musimy ich najpierw pobierać - warstwa logiczna je odpowiednio zagreguje i przekaże zdecydowanie mniejszą liczbę wierszy, co przyśpieszy działanie całości.\n",
    "\n",
    " > Logika działania tego notebooka jest zbieżna z tą, którą robiliśmy już na przykładzie `Inicjowania bazy danych` - warto mieć go pod ręką."
   ]
  },
  {
   "cell_type": "markdown",
   "metadata": {},
   "source": [
    " # Przygotowanie bazy danych\n",
    " Na bazie danych, gdzie umieszczone są już dane, wszystko wylądowało na schemacie `public`. Ponieważ mamy już dedykowany obszar wykorzystania danych, stworzymy sobie schemat dedykowany - `reporting`.\n",
    " Dalej stworzymy widoki, które odpowiedzą na zadane wcześniej pytania\n",
    "\n",
    " ## Stworzenie dedykowanego schematu\n",
    " W pliku `reporting.sql` napisz kwerendę, która stworzy (o ile już nie istnieje) schemat `reporting`.\n",
    " Ten temat nie był omawiany w trakcie trwania kursu, jednak łatwo można uzupełnić wiedzę czytając np. [ten](https://www.postgresqltutorial.com/postgresql-administration/postgresql-create-schema/) samouczek."
   ]
  },
  {
   "cell_type": "markdown",
   "metadata": {},
   "source": [
    " # Aktualizacja bazy danych\n",
    " W tym miejscu odpowiednio skonfiguruj połączenie do bazy danych."
   ]
  },
  {
   "cell_type": "markdown",
   "metadata": {},
   "source": [
    " Tutaj zaimportuj potrzebne biblioteki"
   ]
  },
  {
   "cell_type": "code",
   "execution_count": 26,
   "metadata": {},
   "outputs": [],
   "source": [
    "from psycopg2 import connect"
   ]
  },
  {
   "cell_type": "markdown",
   "metadata": {},
   "source": [
    " ## Konfiguracja połączenia\n",
    " Tutaj uzupełnij konfigurację połączenia"
   ]
  },
  {
   "cell_type": "code",
   "execution_count": 27,
   "metadata": {},
   "outputs": [],
   "source": [
    "username = \"postgres\"\n",
    "passwd = \"zaq1@WSX\"\n",
    "hostname = \"localhost\"  \n",
    "db_name = \"airlines\""
   ]
  },
  {
   "cell_type": "markdown",
   "metadata": {},
   "source": [
    " Tutaj zdefiniuj zmienną `con` oraz `cursor`"
   ]
  },
  {
   "cell_type": "code",
   "execution_count": 28,
   "metadata": {},
   "outputs": [],
   "source": [
    "cnx = connect(user=username, password=passwd, host=hostname, database=db_name)\n",
    "\n",
    "cursor = cnx.cursor()"
   ]
  },
  {
   "cell_type": "markdown",
   "metadata": {},
   "source": [
    " ## Wczytanie pliku `reporting.sql`\n",
    " Z katalogu `sql` wczytaj plik `reporting.sql`"
   ]
  },
  {
   "cell_type": "raw",
   "metadata": {},
   "source": [
    "--CREATE SCHEMA IF NOT EXIST reporting;\n",
    "\n",
    "CREATE OR REPLACE VIEW reporting.flight as\n",
    "SELECT *, \n",
    " CASE\n",
    "  WHEN dep_delay_new > 0 THEN 1\n",
    "  ELSE 0\n",
    " END\n",
    " as is_delayed FROM public.flight WHERE cancelled != 0;\n",
    ";\n",
    "\n",
    "DROP VIEW reporting.top_reliability_roads;\n",
    "CREATE OR REPLACE VIEW reporting.top_reliability_roads AS\n",
    "SELECT \n",
    "    flight.origin_airport_id,\n",
    "    airports.display_airport_name as origin_airport_name, \n",
    "    flight.dest_airport_id,\n",
    "    airports_dest.display_airport_name as dest_airport_name,\n",
    "    flight.year,\n",
    "    count(*) as cnt,\n",
    "    (cast(sum(CASE WHEN flight.dep_delay_new > 0 THEN 1 ELSE 0 END) as float) / count(*)) as reliability, \n",
    "    DENSE_RANK() OVER (ORDER BY (cast(sum(CASE WHEN flight.dep_delay_new > 0 THEN 1 ELSE 0 END) as float) / count(*)) ASC) as nb\n",
    "FROM public.flight as flight JOIN public.airport_list as airports\n",
    "                                ON flight.origin_airport_id = airports.origin_airport_id\n",
    "                             JOIN public.airport_list as airports_dest\n",
    "                                ON flight.dest_airport_id = airports_dest.origin_airport_id\n",
    "GROUP BY (flight.year, flight.origin_airport_id, airports.display_airport_name, flight.dest_airport_id, airports_dest.display_airport_name)\n",
    "HAVING count(*) > 10000\n",
    "LIMIT 10\n",
    ";\n",
    "\n",
    "DROP VIEW reporting.year_to_year_comparision;\n",
    "CREATE OR REPLACE VIEW reporting.year_to_year_comparision AS\n",
    "SELECT\n",
    "    flight.year,\n",
    "    flight.month, \n",
    "    count(*) as flights_amount, \n",
    "    (cast(sum(CASE WHEN flight.dep_delay_new > 0 THEN 1 ELSE 0 END) as float) / count(*)) as reliability\n",
    "FROM public.flight as flight\n",
    "GROUP BY flight.year, flight.month\n",
    ";\n",
    "\n",
    "DROP VIEW reporting.day_to_day_comparision;\n",
    "CREATE OR REPLACE VIEW reporting.day_to_day_comparision AS\n",
    "SELECT\n",
    "    flight.year,\n",
    "    flight.day_of_week, \n",
    "    count(*) as flights_amount\n",
    "FROM public.flight as flight\n",
    "GROUP BY flight.year, flight.day_of_week\n",
    ";\n",
    "\n",
    "DROP VIEW reporting.day_by_day_reliability;\n",
    "CREATE OR REPLACE VIEW reporting.day_by_day_reliability AS\n",
    "SELECT\n",
    "    to_date((cast(flight.year as text) || '-' || LPAD(cast(flight.month as text), 2, '0') || '-' || LPAD(cast(flight.day_of_month as text), 2, '0')), 'YYYY-MM-DD') as \"date\",\n",
    "    (cast(sum(CASE WHEN flight.dep_delay_new > 0 THEN 1 ELSE 0 END) as float) / count(*)) as reliability\n",
    "FROM public.flight as flight\n",
    "GROUP BY \"date\"\n",
    ";\n",
    "\n",
    "\n"
   ]
  },
  {
   "cell_type": "markdown",
   "metadata": {},
   "source": [
    " W tym miejscu odpowiednio rozdziel zawartość pliku `reporting.sql` na mniejsze kwerendy używając `;`"
   ]
  },
  {
   "cell_type": "code",
   "execution_count": null,
   "metadata": {},
   "outputs": [],
   "source": []
  },
  {
   "cell_type": "markdown",
   "metadata": {},
   "source": [
    " W tym miejscu wykonaj każdą z kwerend, aby zainicjować strukturę bazy danych"
   ]
  },
  {
   "cell_type": "code",
   "execution_count": null,
   "metadata": {},
   "outputs": [],
   "source": []
  },
  {
   "cell_type": "markdown",
   "metadata": {},
   "source": [
    " Zatwierdzenie wszystkich operacji na bazie, czyli stworzenie widoków"
   ]
  },
  {
   "cell_type": "code",
   "execution_count": null,
   "metadata": {},
   "outputs": [],
   "source": []
  },
  {
   "cell_type": "markdown",
   "metadata": {},
   "source": [
    " ### Sprawdzenie"
   ]
  },
  {
   "cell_type": "code",
   "execution_count": 29,
   "metadata": {},
   "outputs": [],
   "source": [
    "# Ten kod chyba wygląda znajomo....\n",
    "# istnienie widoków możemy sprawdzić tak samo jak tabele\n",
    "def check_if_table_exists(table_name):\n",
    "    msg = f\"Sprawdzam, czy istnieje tabela {table_name}\"\n",
    "    print(msg)\n",
    "\n",
    "    query = f\"select 1 from {table_name}\"\n",
    "    # jeżeli tabela nie istnieje, ten krok zwróci wyjątek\n",
    "    cursor.execute(query)\n",
    "    print('OK!')"
   ]
  },
  {
   "cell_type": "code",
   "execution_count": 30,
   "metadata": {},
   "outputs": [],
   "source": [
    "views_to_test = [\n",
    "    'reporting.flight',\n",
    "    'reporting.top_reliability_roads',\n",
    "    'reporting.year_to_year_comparision',\n",
    "    'reporting.day_to_day_comparision',\n",
    "    'reporting.day_by_day_reliability'\n",
    "]"
   ]
  },
  {
   "cell_type": "code",
   "execution_count": 31,
   "metadata": {},
   "outputs": [
    {
     "name": "stdout",
     "output_type": "stream",
     "text": [
      "Sprawdzam, czy istnieje tabela reporting.flight\n",
      "OK!\n",
      "Sprawdzam, czy istnieje tabela reporting.top_reliability_roads\n",
      "OK!\n",
      "Sprawdzam, czy istnieje tabela reporting.year_to_year_comparision\n",
      "OK!\n",
      "Sprawdzam, czy istnieje tabela reporting.day_to_day_comparision\n",
      "OK!\n",
      "Sprawdzam, czy istnieje tabela reporting.day_by_day_reliability\n",
      "OK!\n"
     ]
    }
   ],
   "source": [
    "for view in views_to_test:\n",
    "    check_if_table_exists(view)"
   ]
  },
  {
   "cell_type": "code",
   "execution_count": 32,
   "metadata": {},
   "outputs": [
    {
     "name": "stdout",
     "output_type": "stream",
     "text": [
      "Wszystko wygląda OK :) Możesz przejść do kolejnego zadania.\n"
     ]
    }
   ],
   "source": [
    "cnx.close()\n",
    "msg = \"Wszystko wygląda OK :) Możesz przejść do kolejnego zadania.\"\n",
    "print(msg)"
   ]
  },
  {
   "cell_type": "markdown",
   "metadata": {},
   "source": [
    " # Podsumowanie\n",
    " W tym notatniku stworzyliśmy nowy schemat - `reporting`, którego zadaniem jest przygotowanie naszych danych\n",
    " do wizualizacji. Dalsza część pracy będzie polegała na wyświetleniu w wizualnie atrakcyjny sposób danych w interaktywnym raporcie stworzonym\n",
    " za pomocą `Dash`."
   ]
  }
 ],
 "metadata": {
  "kernelspec": {
   "display_name": "Python 3 (ipykernel)",
   "language": "python",
   "name": "python3"
  },
  "language_info": {
   "codemirror_mode": {
    "name": "ipython",
    "version": 3
   },
   "file_extension": ".py",
   "mimetype": "text/x-python",
   "name": "python",
   "nbconvert_exporter": "python",
   "pygments_lexer": "ipython3",
   "version": "3.9.12"
  }
 },
 "nbformat": 4,
 "nbformat_minor": 4
}
